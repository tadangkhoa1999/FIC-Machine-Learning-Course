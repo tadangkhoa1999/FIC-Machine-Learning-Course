{
  "nbformat": 4,
  "nbformat_minor": 0,
  "metadata": {
    "colab": {
      "name": "2. Python - Numpy co ban.ipynb",
      "provenance": []
    },
    "kernelspec": {
      "name": "python3",
      "display_name": "Python 3"
    }
  },
  "cells": [
    {
      "cell_type": "code",
      "metadata": {
        "id": "4LF0YYHG5TEQ",
        "colab_type": "code",
        "colab": {
          "base_uri": "https://localhost:8080/",
          "height": 121
        },
        "outputId": "1bed491e-29d9-4d05-d2c2-40e8a7b3ade1"
      },
      "source": [
        "# Import thư viện\n",
        "import numpy as np\n",
        "\n",
        "# array\n",
        "array_ex = np.array([1, 2, 3])\n",
        "print(array_ex.shape)\n",
        "print(array_ex[0], array_ex[1])\n",
        "print('-'*20)\n",
        "\n",
        "# matrix\n",
        "matrix_ex = np.array([[1, 2, 3], [4, 5, 6]])\n",
        "print(matrix_ex.shape)\n",
        "print(matrix_ex)"
      ],
      "execution_count": null,
      "outputs": [
        {
          "output_type": "stream",
          "text": [
            "(3,)\n",
            "1 2\n",
            "--------------------\n",
            "(2, 3)\n",
            "[[1 2 3]\n",
            " [4 5 6]]\n"
          ],
          "name": "stdout"
        }
      ]
    },
    {
      "cell_type": "code",
      "metadata": {
        "id": "U6x-73lCPBog",
        "colab_type": "code",
        "colab": {
          "base_uri": "https://localhost:8080/",
          "height": 69
        },
        "outputId": "1fdeba83-b0ee-4b79-fe2b-29cfa83fed74"
      },
      "source": [
        "arr_1 = np.array([1, 2, 3])\n",
        "print(arr_1.shape)\n",
        "arr_2 = np.array([[1, 2, 3]])\n",
        "print(arr_2.shape)\n",
        "arr_3 = np.array([[1], [2], [3]])\n",
        "print(arr_3.shape)"
      ],
      "execution_count": null,
      "outputs": [
        {
          "output_type": "stream",
          "text": [
            "(3,)\n",
            "(1, 3)\n",
            "(3, 1)\n"
          ],
          "name": "stdout"
        }
      ]
    },
    {
      "cell_type": "code",
      "metadata": {
        "id": "yH70ioNC9CpM",
        "colab_type": "code",
        "colab": {
          "base_uri": "https://localhost:8080/",
          "height": 238
        },
        "outputId": "c512d622-06aa-4f56-c612-b79592841514"
      },
      "source": [
        "# Một số mảng đặc biệt\n",
        "a = np.zeros((2, 3))\n",
        "print(a)\n",
        "a = np.ones((2, 3))\n",
        "print(a)\n",
        "a = np.full((2, 3), 69)\n",
        "print(a)\n",
        "a = np.random.random((2, 3))\n",
        "print(a)\n",
        "a = np.eye(5)\n",
        "print(a)"
      ],
      "execution_count": null,
      "outputs": [
        {
          "output_type": "stream",
          "text": [
            "[[0. 0. 0.]\n",
            " [0. 0. 0.]]\n",
            "[[1. 1. 1.]\n",
            " [1. 1. 1.]]\n",
            "[[69 69 69]\n",
            " [69 69 69]]\n",
            "[[0.7424709  0.7055592  0.99643302]\n",
            " [0.5898517  0.82413748 0.44462394]]\n",
            "[[1. 0. 0. 0. 0.]\n",
            " [0. 1. 0. 0. 0.]\n",
            " [0. 0. 1. 0. 0.]\n",
            " [0. 0. 0. 1. 0.]\n",
            " [0. 0. 0. 0. 1.]]\n"
          ],
          "name": "stdout"
        }
      ]
    },
    {
      "cell_type": "code",
      "metadata": {
        "id": "XgSB3RSl_Xy5",
        "colab_type": "code",
        "colab": {
          "base_uri": "https://localhost:8080/",
          "height": 272
        },
        "outputId": "d4402f9b-999b-4bed-91fc-883541f2d513"
      },
      "source": [
        "a = np.zeros((5, 5))\n",
        "b = a[3:, 3:]\n",
        "print(a)\n",
        "print(b)\n",
        "print('-'*20)\n",
        "\n",
        "b[0, 0] = 1\n",
        "print(b)\n",
        "print(a)"
      ],
      "execution_count": null,
      "outputs": [
        {
          "output_type": "stream",
          "text": [
            "[[0. 0. 0. 0. 0.]\n",
            " [0. 0. 0. 0. 0.]\n",
            " [0. 0. 0. 0. 0.]\n",
            " [0. 0. 0. 0. 0.]\n",
            " [0. 0. 0. 0. 0.]]\n",
            "[[0. 0.]\n",
            " [0. 0.]]\n",
            "--------------------\n",
            "[[1. 0.]\n",
            " [0. 0.]]\n",
            "[[0. 0. 0. 0. 0.]\n",
            " [0. 0. 0. 0. 0.]\n",
            " [0. 0. 0. 0. 0.]\n",
            " [0. 0. 0. 1. 0.]\n",
            " [0. 0. 0. 0. 0.]]\n"
          ],
          "name": "stdout"
        }
      ]
    },
    {
      "cell_type": "code",
      "metadata": {
        "id": "kIrGnpjI_zZV",
        "colab_type": "code",
        "colab": {
          "base_uri": "https://localhost:8080/",
          "height": 85
        },
        "outputId": "2950f29e-57b5-4202-cdb3-93ab78abdfc0"
      },
      "source": [
        "a = np.array([\n",
        "               [1, 2, 3],\n",
        "               [1, 2, 3],\n",
        "               [1, 2, 3]\n",
        "])\n",
        "\n",
        "bool_idx = a > 2\n",
        "print(bool_idx)\n",
        "print(a[a > 2])"
      ],
      "execution_count": null,
      "outputs": [
        {
          "output_type": "stream",
          "text": [
            "[[False False  True]\n",
            " [False False  True]\n",
            " [False False  True]]\n",
            "[3 3 3]\n"
          ],
          "name": "stdout"
        }
      ]
    },
    {
      "cell_type": "code",
      "metadata": {
        "id": "t9Su4nfIze9m",
        "colab_type": "code",
        "colab": {
          "base_uri": "https://localhost:8080/",
          "height": 68
        },
        "outputId": "991a02bf-2faa-4721-b264-b05cfb883ae5"
      },
      "source": [
        "a = np.array([\n",
        "               [1, 2, 3],\n",
        "               [1, 2, 3],\n",
        "               [1, 2, 3]\n",
        "])\n",
        "\n",
        "b = np.where(a > 2, a, a*10)\n",
        "print(b)"
      ],
      "execution_count": null,
      "outputs": [
        {
          "output_type": "stream",
          "text": [
            "[[10 20  3]\n",
            " [10 20  3]\n",
            " [10 20  3]]\n"
          ],
          "name": "stdout"
        }
      ]
    },
    {
      "cell_type": "code",
      "metadata": {
        "id": "W4zpkKgvw9EL",
        "colab_type": "code",
        "colab": {
          "base_uri": "https://localhost:8080/",
          "height": 153
        },
        "outputId": "ac6c19e5-520e-419b-a257-ebe14bb8128e"
      },
      "source": [
        "A = np.array([\n",
        "    [1, 2],\n",
        "    [3, 4]\n",
        "])\n",
        "B = np.array([\n",
        "    [5, 6],\n",
        "    [7, 8]\n",
        "])\n",
        "\n",
        "print(A + B)\n",
        "print(A - B)\n",
        "print(A * B)\n",
        "print(A / B)"
      ],
      "execution_count": null,
      "outputs": [
        {
          "output_type": "stream",
          "text": [
            "[[ 6  8]\n",
            " [10 12]]\n",
            "[[-4 -4]\n",
            " [-4 -4]]\n",
            "[[ 5 12]\n",
            " [21 32]]\n",
            "[[0.2        0.33333333]\n",
            " [0.42857143 0.5       ]]\n"
          ],
          "name": "stdout"
        }
      ]
    },
    {
      "cell_type": "code",
      "metadata": {
        "id": "o7ITuuxUxf2V",
        "colab_type": "code",
        "colab": {
          "base_uri": "https://localhost:8080/",
          "height": 85
        },
        "outputId": "b156add5-3ce8-4b5d-9339-b94b4b432597"
      },
      "source": [
        "A = np.array([\n",
        "    [1, 2],\n",
        "    [3, 4]\n",
        "])\n",
        "B = np.array([\n",
        "    [5, 6],\n",
        "    [7, 8]\n",
        "])\n",
        "\n",
        "print(A.dot(B))\n",
        "print(B.dot(A))"
      ],
      "execution_count": null,
      "outputs": [
        {
          "output_type": "stream",
          "text": [
            "[[19 22]\n",
            " [43 50]]\n",
            "[[23 34]\n",
            " [31 46]]\n"
          ],
          "name": "stdout"
        }
      ]
    },
    {
      "cell_type": "code",
      "metadata": {
        "id": "64nx7umMx8UF",
        "colab_type": "code",
        "colab": {
          "base_uri": "https://localhost:8080/",
          "height": 187
        },
        "outputId": "9382127b-7ab8-4bd3-93bc-3b328609cd2a"
      },
      "source": [
        "A = np.array([\n",
        "    [1, 2, 3, 4],\n",
        "    [5, 6, 7, 8]\n",
        "])\n",
        "\n",
        "print(A.T)\n",
        "print('-'*20)\n",
        "print(A.reshape(2,2,2))"
      ],
      "execution_count": null,
      "outputs": [
        {
          "output_type": "stream",
          "text": [
            "[[1 5]\n",
            " [2 6]\n",
            " [3 7]\n",
            " [4 8]]\n",
            "--------------------\n",
            "[[[1 2]\n",
            "  [3 4]]\n",
            "\n",
            " [[5 6]\n",
            "  [7 8]]]\n"
          ],
          "name": "stdout"
        }
      ]
    },
    {
      "cell_type": "code",
      "metadata": {
        "id": "wQSH_d8vykpV",
        "colab_type": "code",
        "colab": {
          "base_uri": "https://localhost:8080/",
          "height": 34
        },
        "outputId": "6a733b1e-b747-41ac-a18b-5a91082c5c22"
      },
      "source": [
        "A = np.array([1, 2, 3])\n",
        "print(A + 1)"
      ],
      "execution_count": null,
      "outputs": [
        {
          "output_type": "stream",
          "text": [
            "[2 3 4]\n"
          ],
          "name": "stdout"
        }
      ]
    },
    {
      "cell_type": "code",
      "metadata": {
        "id": "ap3YH4gyy1Of",
        "colab_type": "code",
        "colab": {
          "base_uri": "https://localhost:8080/",
          "height": 51
        },
        "outputId": "9cbdc3ac-74dc-460c-ae0a-8bcd6da6280b"
      },
      "source": [
        "A = np.asarray([\n",
        "                [4, 5, 6], \n",
        "                [7, 8, 9]\n",
        "                ])\n",
        "\n",
        "B = np.asarray([\n",
        "                [4], \n",
        "                [7]\n",
        "                ])\n",
        "\n",
        "print(A * B)"
      ],
      "execution_count": null,
      "outputs": [
        {
          "output_type": "stream",
          "text": [
            "[[16 20 24]\n",
            " [49 56 63]]\n"
          ],
          "name": "stdout"
        }
      ]
    }
  ]
}