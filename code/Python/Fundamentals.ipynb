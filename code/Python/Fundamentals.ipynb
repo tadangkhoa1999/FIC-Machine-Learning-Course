{
  "nbformat": 4,
  "nbformat_minor": 0,
  "metadata": {
    "colab": {
      "name": "2. Python - Python co ban.ipynb",
      "provenance": [],
      "collapsed_sections": []
    },
    "kernelspec": {
      "name": "python3",
      "display_name": "Python 3"
    }
  },
  "cells": [
    {
      "cell_type": "code",
      "metadata": {
        "id": "PV3Oi__DbZPS",
        "colab_type": "code",
        "colab": {
          "base_uri": "https://localhost:8080/",
          "height": 85
        },
        "outputId": "e740c972-eb04-4965-f466-7044979ef764"
      },
      "source": [
        "x = 6\n",
        "print(type(x))\n",
        "print(x, x + 9, x * 2, x ** 2)\n",
        "x += 1\n",
        "print(x)\n",
        "x *=2\n",
        "print(x)"
      ],
      "execution_count": null,
      "outputs": [
        {
          "output_type": "stream",
          "text": [
            "<class 'int'>\n",
            "6 15 12 36\n",
            "7\n",
            "14\n"
          ],
          "name": "stdout"
        }
      ]
    },
    {
      "cell_type": "code",
      "metadata": {
        "id": "J5dyDfYAb_OB",
        "colab_type": "code",
        "colab": {
          "base_uri": "https://localhost:8080/",
          "height": 85
        },
        "outputId": "9d7d70d8-99f1-4e70-bca4-ea13347000e6"
      },
      "source": [
        "t = True\n",
        "f = False\n",
        "print('t or f:', t or f)\n",
        "print('t and f:', t and f)\n",
        "print('not t:', not t)\n",
        "print('t != f:', t != f)\n"
      ],
      "execution_count": null,
      "outputs": [
        {
          "output_type": "stream",
          "text": [
            "t or f: True\n",
            "t and f: False\n",
            "not t: False\n",
            "t != f: True\n"
          ],
          "name": "stdout"
        }
      ]
    },
    {
      "cell_type": "code",
      "metadata": {
        "id": "xN73xgtYd4_L",
        "colab_type": "code",
        "colab": {
          "base_uri": "https://localhost:8080/",
          "height": 102
        },
        "outputId": "08ecbba3-fff7-40a1-832e-5bf0711b3dca"
      },
      "source": [
        "f = 'FPT'\n",
        "i = 'Innovation'\n",
        "c = 'Club'\n",
        "print(f, i, c)\n",
        "print('-'.join([f, i, c]))\n",
        "print('{1} {0} {2}, {3:0.2f}'.format(i, f, c, 111.1234))\n",
        "x = '    xxx yy zz   '\n",
        "print(\"'\" + x.replace('x', 'a') + \"'\")\n",
        "print(\"'\" + x.strip() + \"'\")"
      ],
      "execution_count": null,
      "outputs": [
        {
          "output_type": "stream",
          "text": [
            "FPT Innovation Club\n",
            "FPT-Innovation-Club\n",
            "FPT Innovation Club, 111.12\n",
            "'    aaa yy zz   '\n",
            "'xxx yy zz'\n"
          ],
          "name": "stdout"
        }
      ]
    },
    {
      "cell_type": "code",
      "metadata": {
        "id": "Hb5Hfsa_jir0",
        "colab_type": "code",
        "colab": {
          "base_uri": "https://localhost:8080/",
          "height": 153
        },
        "outputId": "7c9003ff-9614-4065-c612-f3456f2cd652"
      },
      "source": [
        "l = [0, 1, 2, 3, 4, 5, 6, 7, 8, 9]\n",
        "print(l[1:5])\n",
        "print(l[6:])\n",
        "print(l[-1])\n",
        "l[2:4] = ['a', 'b']\n",
        "print(l)\n",
        "print(\"=\" *40)\n",
        "\n",
        "l.append('z')\n",
        "print(l)\n",
        "print('pop:', l.pop())\n",
        "print(l)"
      ],
      "execution_count": null,
      "outputs": [
        {
          "output_type": "stream",
          "text": [
            "[1, 2, 3, 4]\n",
            "[6, 7, 8, 9]\n",
            "9\n",
            "[0, 1, 'a', 'b', 4, 5, 6, 7, 8, 9]\n",
            "========================================\n",
            "[0, 1, 'a', 'b', 4, 5, 6, 7, 8, 9, 'z']\n",
            "pop: z\n",
            "[0, 1, 'a', 'b', 4, 5, 6, 7, 8, 9]\n"
          ],
          "name": "stdout"
        }
      ]
    },
    {
      "cell_type": "code",
      "metadata": {
        "id": "cFZCTB-dlknQ",
        "colab_type": "code",
        "colab": {
          "base_uri": "https://localhost:8080/",
          "height": 68
        },
        "outputId": "2665aff1-e029-4710-9a17-35385d8f32fa"
      },
      "source": [
        "d = {'room':'607', 'time':'7h15'}\n",
        "print(d['room'])\n",
        "print(d.get('a'), 1)\n",
        "d['a'] = 1\n",
        "print(d)"
      ],
      "execution_count": null,
      "outputs": [
        {
          "output_type": "stream",
          "text": [
            "607\n",
            "None 1\n",
            "{'room': '607', 'time': '7h15', 'a': 1}\n"
          ],
          "name": "stdout"
        }
      ]
    },
    {
      "cell_type": "code",
      "metadata": {
        "id": "6XSmUO1ToX1a",
        "colab_type": "code",
        "colab": {
          "base_uri": "https://localhost:8080/",
          "height": 34
        },
        "outputId": "9b408cf9-be9b-4f1f-8613-ce10348425b4"
      },
      "source": [
        "set_ex = {'cat', 'dog'}\n",
        "tuple_ex = ('cat', 'dog')\n",
        "\n",
        "try:\n",
        "  tuple_ex[1] = '1'\n",
        "except:\n",
        "  print('error')"
      ],
      "execution_count": null,
      "outputs": [
        {
          "output_type": "stream",
          "text": [
            "error\n"
          ],
          "name": "stdout"
        }
      ]
    },
    {
      "cell_type": "code",
      "metadata": {
        "id": "m_iAbx6_yQL4",
        "colab_type": "code",
        "colab": {
          "base_uri": "https://localhost:8080/",
          "height": 191
        },
        "outputId": "c8855329-1b01-46d7-aea3-eb9de9b7d9c0"
      },
      "source": [
        "for i in range(10):\n",
        "  if i < 5:\n",
        "    print(i, '< 5')\n",
        "  else:\n",
        "    print(i, '>= 5')"
      ],
      "execution_count": null,
      "outputs": [
        {
          "output_type": "stream",
          "text": [
            "0 < 5\n",
            "1 < 5\n",
            "2 < 5\n",
            "3 < 5\n",
            "4 < 5\n",
            "5 >= 5\n",
            "6 >= 5\n",
            "7 >= 5\n",
            "8 >= 5\n",
            "9 >= 5\n"
          ],
          "name": "stdout"
        }
      ]
    },
    {
      "cell_type": "code",
      "metadata": {
        "id": "guxd_oi9LTNb",
        "colab_type": "code",
        "colab": {}
      },
      "source": [
        "l = ['a', 'b', 'c']"
      ],
      "execution_count": null,
      "outputs": []
    },
    {
      "cell_type": "code",
      "metadata": {
        "id": "zSBV38i3LYHf",
        "colab_type": "code",
        "colab": {
          "base_uri": "https://localhost:8080/",
          "height": 69
        },
        "outputId": "2b687cca-e400-4058-a604-43d1a9fad7a5"
      },
      "source": [
        "for i, j in enumerate(l):\n",
        "  print(i, j)"
      ],
      "execution_count": null,
      "outputs": [
        {
          "output_type": "stream",
          "text": [
            "0 a\n",
            "1 b\n",
            "2 c\n"
          ],
          "name": "stdout"
        }
      ]
    },
    {
      "cell_type": "code",
      "metadata": {
        "id": "0I2ov8VLyeX_",
        "colab_type": "code",
        "colab": {
          "base_uri": "https://localhost:8080/",
          "height": 102
        },
        "outputId": "6b5bac4c-6ef6-4ba9-ee0e-625016aabb54"
      },
      "source": [
        "i = 0\n",
        "while True:\n",
        "  print(i)\n",
        "  i += 1\n",
        "  if i == 5:\n",
        "    break"
      ],
      "execution_count": null,
      "outputs": [
        {
          "output_type": "stream",
          "text": [
            "0\n",
            "1\n",
            "2\n",
            "3\n",
            "4\n"
          ],
          "name": "stdout"
        }
      ]
    },
    {
      "cell_type": "code",
      "metadata": {
        "id": "QMXb12Ahzam2",
        "colab_type": "code",
        "colab": {
          "base_uri": "https://localhost:8080/",
          "height": 34
        },
        "outputId": "78dbf5dc-2f78-41ff-dbfb-24820f13140a"
      },
      "source": [
        "def plus(a, b):\n",
        "  print(a + b)\n",
        "  return a + b\n",
        "\n",
        "x = plus(1, 2)"
      ],
      "execution_count": null,
      "outputs": [
        {
          "output_type": "stream",
          "text": [
            "3\n"
          ],
          "name": "stdout"
        }
      ]
    },
    {
      "cell_type": "code",
      "metadata": {
        "id": "SzMZ6Dekz2Iv",
        "colab_type": "code",
        "colab": {
          "base_uri": "https://localhost:8080/",
          "height": 51
        },
        "outputId": "bfab7291-7d97-4629-bf69-4925e0ae1c81"
      },
      "source": [
        "class FIC():\n",
        "  def __init__(self, a, b):\n",
        "    self.a = a\n",
        "    self.b = b\n",
        "    print('(a, b) = ({}, {})'.format(a, b))\n",
        "\n",
        "  def plus(self):\n",
        "    print('Sum:', self.a + self.b)\n",
        "    return self.a + self.b\n",
        "\n",
        "a = FIC(1, 2)\n",
        "x = a.plus()"
      ],
      "execution_count": null,
      "outputs": [
        {
          "output_type": "stream",
          "text": [
            "(a, b) = (1, 2)\n",
            "Sum: 3\n"
          ],
          "name": "stdout"
        }
      ]
    }
  ]
}