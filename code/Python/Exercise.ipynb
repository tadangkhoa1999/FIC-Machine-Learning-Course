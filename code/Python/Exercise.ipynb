{
  "nbformat": 4,
  "nbformat_minor": 0,
  "metadata": {
    "colab": {
      "name": "2. Python - Bai tap.ipynb",
      "provenance": []
    },
    "kernelspec": {
      "name": "python3",
      "display_name": "Python 3"
    }
  },
  "cells": [
    {
      "cell_type": "code",
      "metadata": {
        "id": "0ksNjY580hrs",
        "colab_type": "code",
        "colab": {}
      },
      "source": [
        "import numpy as np"
      ],
      "execution_count": null,
      "outputs": []
    },
    {
      "cell_type": "markdown",
      "metadata": {
        "id": "SJ_rWeFw0yNm",
        "colab_type": "text"
      },
      "source": [
        "**Câu 1:** Thay thế tất cả các phần tử trong một mảng có giá trị lớn hơn 30 thành 30 và dưới 10 thành 10.\n",
        "```\n",
        "input: [28. 15. 22. 42.  1.  7. 34. 41.  8. 29.]\n",
        "output: [28. 15. 22. 30. 10. 10. 30. 30. 10. 29.]\n",
        "```"
      ]
    },
    {
      "cell_type": "code",
      "metadata": {
        "id": "ixIlDfED0lAr",
        "colab_type": "code",
        "colab": {}
      },
      "source": [
        ""
      ],
      "execution_count": null,
      "outputs": []
    },
    {
      "cell_type": "markdown",
      "metadata": {
        "id": "AfInntLN1Lxq",
        "colab_type": "text"
      },
      "source": [
        "**Câu 2:** Chuyển một mảng nhiều chiều thành một mảng 1 chiều\n",
        "```\n",
        "input: [[0, 1, 2], [3, 4, 5, 6], [7, 8, 9]]\n",
        "output: [0 1 2 3 4 5 6 7 8 9]\n",
        "```"
      ]
    },
    {
      "cell_type": "code",
      "metadata": {
        "id": "AKC6GgFh1Vwp",
        "colab_type": "code",
        "colab": {}
      },
      "source": [
        ""
      ],
      "execution_count": null,
      "outputs": []
    },
    {
      "cell_type": "markdown",
      "metadata": {
        "id": "Xz1bC_ud1WUr",
        "colab_type": "text"
      },
      "source": [
        "**Câu 3:** Tạo one-hot encoding cho một mảng numpy. One-hot encoding nhằm chuyển đổi mỗi giá trị (số nguyên) n thành một vector v mà vị trí thứ n trong vector v mang giá trị 1 và tất cả vị trí khác đều mang giá trị 0.\n",
        "```\n",
        "input: [2 1 3 3 1 2]\n",
        "output: array([[0., 1., 0.],\n",
        "              [1., 0., 0.],\n",
        "              [0., 0., 1.],\n",
        "              [0., 0., 1.],\n",
        "              [1., 0., 0.],\n",
        "              [0., 1., 0.]])\n",
        "```"
      ]
    },
    {
      "cell_type": "code",
      "metadata": {
        "id": "btVPCbNQ2Aeq",
        "colab_type": "code",
        "colab": {
          "base_uri": "https://localhost:8080/",
          "height": 121
        },
        "outputId": "49e64ee2-f5ea-4aa6-9ce6-3b05fdcd8a15"
      },
      "source": [
        "import numpy as np\n",
        "k=[2, 1, 3, 3, 1, 2]\n",
        "tt=np.zeros((len(k),max(k)))\n",
        "for i in range(0,len(k)):\n",
        "  tt[i][k[i]-1]+=1\n",
        "print(tt)"
      ],
      "execution_count": null,
      "outputs": [
        {
          "output_type": "stream",
          "text": [
            "[[0. 1. 0.]\n",
            " [1. 0. 0.]\n",
            " [0. 0. 1.]\n",
            " [0. 0. 1.]\n",
            " [1. 0. 0.]\n",
            " [0. 1. 0.]]\n"
          ],
          "name": "stdout"
        }
      ]
    },
    {
      "cell_type": "markdown",
      "metadata": {
        "id": "d_0CFI6I2D9w",
        "colab_type": "text"
      },
      "source": [
        "**Câu 4:** Sắp xếp các phần tử trong một mảng 1 chiều\n",
        "```\n",
        "input: [3 6 4 8]\n",
        "output: [3 4 6 8]\n",
        "```"
      ]
    },
    {
      "cell_type": "code",
      "metadata": {
        "id": "WGboOgjz2QMg",
        "colab_type": "code",
        "colab": {
          "base_uri": "https://localhost:8080/",
          "height": 35
        },
        "outputId": "cc9ae656-6ba6-43a1-e880-b1ccfc4989c4"
      },
      "source": [
        "\n",
        "a= [3, 6, 4, 8 ] \n",
        "print(sorted(a))"
      ],
      "execution_count": null,
      "outputs": [
        {
          "output_type": "stream",
          "text": [
            "[3, 4, 6, 8]\n"
          ],
          "name": "stdout"
        }
      ]
    },
    {
      "cell_type": "markdown",
      "metadata": {
        "id": "khSwlwrO2QpL",
        "colab_type": "text"
      },
      "source": [
        ",**Câu 5:** Tìm giá trị lớn nhất trong mỗi hàng và mỗi cột của một mảng 2d\n",
        "```\n",
        "input\n",
        "[[5 1 7]\n",
        " [3 5 2]\n",
        " [6 4 5]]\n",
        " \n",
        "output\n",
        "Max by column\n",
        "[6 5 7]\n",
        "Max by row\n",
        "[7 5 6]\n",
        "```"
      ]
    },
    {
      "cell_type": "code",
      "metadata": {
        "id": "o1IJkDKo2Vjs",
        "colab_type": "code",
        "colab": {
          "base_uri": "https://localhost:8080/",
          "height": 52
        },
        "outputId": "41d839cd-54b6-4116-c680-dbaba1fe640c"
      },
      "source": [
        "import numpy as np\n",
        "a = np.array([[5, 1, 7],\n",
        " [3, 5, 2],\n",
        " [6, 4 ,5]])\n",
        "print(a.max(axis = 0))\n",
        "print(a.max(axis = 1))"
      ],
      "execution_count": null,
      "outputs": [
        {
          "output_type": "stream",
          "text": [
            "[6 5 7]\n",
            "[7 5 6]\n"
          ],
          "name": "stdout"
        }
      ]
    },
    {
      "cell_type": "markdown",
      "metadata": {
        "id": "uAFS9mFl2gGi",
        "colab_type": "text"
      },
      "source": [
        "**Câu 6:** Trừ theo dòng, cột mảng 2 chiều arr2d bằng mảng 1 chiều arr1d\n",
        "```\n",
        "arr2d\n",
        "[[3 3 3]\n",
        " [4 4 4]\n",
        " [5 5 5]]\n",
        "arr1d\n",
        "[1 2 1]\n",
        "output hang\n",
        "[[2 1 2]\n",
        " [3 2 3]\n",
        " [4 3 4]]\n",
        "output cot\n",
        "[[2 2 2]\n",
        " [2 2 2]\n",
        " [4 4 4]]\n",
        "```"
      ]
    },
    {
      "cell_type": "code",
      "metadata": {
        "id": "BMkiwAvB28VG",
        "colab_type": "code",
        "colab": {
          "base_uri": "https://localhost:8080/",
          "height": 121
        },
        "outputId": "3f61a4c0-0c9d-4e17-e05f-047bb3b2f77f"
      },
      "source": [
        "import numpy as np\n",
        "arr2d = np.array([[3, 3, 3],\n",
        " [4, 4, 4],\n",
        " [5, 5, 5]]\n",
        " )\n",
        "arr1d = np.array([1, 2, 1])\n",
        "print(arr2d - arr1d)\n",
        "print((arr2d.T - arr1d).T)"
      ],
      "execution_count": null,
      "outputs": [
        {
          "output_type": "stream",
          "text": [
            "[[2 1 2]\n",
            " [3 2 3]\n",
            " [4 3 4]]\n",
            "[[2 2 2]\n",
            " [2 2 2]\n",
            " [4 4 4]]\n"
          ],
          "name": "stdout"
        }
      ]
    },
    {
      "cell_type": "markdown",
      "metadata": {
        "id": "uD2y4_-03Sa1",
        "colab_type": "text"
      },
      "source": [
        "**Câu 7:** Lấy tất cả vị trí nơi các phần tử có giá trị khác nhau\n",
        "```\n",
        "input\n",
        "arr1: [3 4 5 6 7 8]\n",
        "arr2: [3 3 6 6 7 7]\n",
        "output\n",
        "[1, 2, 5]\n",
        "```"
      ]
    },
    {
      "cell_type": "code",
      "metadata": {
        "id": "SY2Lhcuh3YD9",
        "colab_type": "code",
        "colab": {
          "base_uri": "https://localhost:8080/",
          "height": 35
        },
        "outputId": "66e9da14-5e9d-424c-dee9-6ebafc9b5b84"
      },
      "source": [
        "arr1 = [3, 4, 5, 6, 7, 8]\n",
        "arr2 = [3, 3, 6, 6, 7, 7]\n",
        "print([i for i in range(len(arr1)) if arr1[i] not in arr2])"
      ],
      "execution_count": null,
      "outputs": [
        {
          "output_type": "stream",
          "text": [
            "[1, 2, 5]\n"
          ],
          "name": "stdout"
        }
      ]
    }
  ]
}